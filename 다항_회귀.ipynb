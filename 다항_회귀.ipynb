{
  "nbformat": 4,
  "nbformat_minor": 0,
  "metadata": {
    "colab": {
      "name": "다항 회귀.ipynb",
      "provenance": [],
      "collapsed_sections": [],
      "authorship_tag": "ABX9TyNR2pz1pHQAuJxFhpIepTpU",
      "include_colab_link": true
    },
    "kernelspec": {
      "name": "python3",
      "display_name": "Python 3"
    },
    "language_info": {
      "name": "python"
    }
  },
  "cells": [
    {
      "cell_type": "markdown",
      "metadata": {
        "id": "view-in-github",
        "colab_type": "text"
      },
      "source": [
        "<a href=\"https://colab.research.google.com/github/Jiwon510/KNUT_Club/blob/master/%EB%8B%A4%ED%95%AD_%ED%9A%8C%EA%B7%80.ipynb\" target=\"_parent\"><img src=\"https://colab.research.google.com/assets/colab-badge.svg\" alt=\"Open In Colab\"/></a>"
      ]
    },
    {
      "cell_type": "code",
      "execution_count": null,
      "metadata": {
        "id": "uRLKXYbEmDjz"
      },
      "outputs": [],
      "source": [
        "# 1. 데이터 준비\n",
        "\n",
        "import numpy as np\n",
        "\n",
        "perch_length = np.array([8.4, 13.7, 15.0, 16.2, 17.4, 18.0, 18.7, 19.0, 19.6, 20.0, 21.0,\n",
        "       21.0, 21.0, 21.3, 22.0, 22.0, 22.0, 22.0, 22.0, 22.5, 22.5, 22.7,\n",
        "       23.0, 23.5, 24.0, 24.0, 24.6, 25.0, 25.6, 26.5, 27.3, 27.5, 27.5,\n",
        "       27.5, 28.0, 28.7, 30.0, 32.8, 34.5, 35.0, 36.5, 36.0, 37.0, 37.0,\n",
        "       39.0, 39.0, 39.0, 40.0, 40.0, 40.0, 40.0, 42.0, 43.0, 43.0, 43.5,\n",
        "       44.0])\n",
        "\n",
        "perch_weight = np.array([5.9, 32.0, 40.0, 51.5, 70.0, 100.0, 78.0, 80.0, 85.0, 85.0, 110.0,\n",
        "       115.0, 125.0, 130.0, 120.0, 120.0, 130.0, 135.0, 110.0, 130.0,\n",
        "       150.0, 145.0, 150.0, 170.0, 225.0, 145.0, 188.0, 180.0, 197.0,\n",
        "       218.0, 300.0, 260.0, 265.0, 250.0, 250.0, 300.0, 320.0, 514.0,\n",
        "       556.0, 840.0, 685.0, 700.0, 700.0, 690.0, 900.0, 650.0, 820.0,\n",
        "       850.0, 900.0, 1015.0, 820.0, 1100.0, 1000.0, 1100.0, 1000.0,\n",
        "       1000.0])"
      ]
    },
    {
      "cell_type": "code",
      "source": [
        "# 2. 훈련 데이터, 테스트 데이터 분류\n",
        "\n",
        "from sklearn.model_selection import train_test_split\n",
        "\n",
        "train_input, test_input, train_target, test_target = train_test_split(\n",
        "    perch_length, perch_weight, random_state=42\n",
        "    )"
      ],
      "metadata": {
        "id": "hvchys64mQwd"
      },
      "execution_count": null,
      "outputs": []
    },
    {
      "cell_type": "code",
      "source": [
        "# 3. 데이터 전처리\n",
        "\n",
        "from sklearn.preprocessing import PolynomialFeatures\n",
        "\n",
        "# reshape : 1차원 배열을 2차원 배열로 변경\n",
        "train_input = train_input.reshape(-1, 1)\n",
        "test_input = test_input.reshape(-1, 1)\n",
        "\n",
        "# 훈련 데이터와 테스트 데이터 제곱\n",
        "train_poly = np.column_stack((train_input ** 2, train_input))\n",
        "test_poly = np.column_stack((test_input ** 2, test_input))"
      ],
      "metadata": {
        "id": "4BLxf3yvmRYz"
      },
      "execution_count": null,
      "outputs": []
    },
    {
      "cell_type": "code",
      "source": [
        "# 4. 훈련\n",
        "\n",
        "from sklearn.linear_model import LinearRegression\n",
        "\n",
        "lr = LinearRegression()\n",
        "lr.fit(train_poly, train_target)\n",
        "\n",
        "print(lr.score(train_poly, train_target))\n",
        "print(lr.score(test_poly, test_target))"
      ],
      "metadata": {
        "colab": {
          "base_uri": "https://localhost:8080/"
        },
        "id": "iju9-1nMmuu8",
        "outputId": "6a8c1765-a16d-4fe1-c2e7-af66f3dae05c"
      },
      "execution_count": null,
      "outputs": [
        {
          "output_type": "stream",
          "name": "stdout",
          "text": [
            "0.9706807451768623\n",
            "0.9775935108325122\n"
          ]
        }
      ]
    },
    {
      "cell_type": "code",
      "source": [
        "# 오차\n",
        "\n",
        "from sklearn.metrics import mean_absolute_error\n",
        "\n",
        "test_prediction = lr.predict(test_poly)\n",
        "mae = mean_absolute_error(test_target, test_prediction)\n",
        "print(mae)"
      ],
      "metadata": {
        "colab": {
          "base_uri": "https://localhost:8080/"
        },
        "id": "SXnR4-m9rXlb",
        "outputId": "5b6bf90c-3717-4f19-a728-5792b83a3af2"
      },
      "execution_count": null,
      "outputs": [
        {
          "output_type": "stream",
          "name": "stdout",
          "text": [
            "37.76606283367664\n"
          ]
        }
      ]
    },
    {
      "cell_type": "code",
      "source": [
        "# 5. 예측\n",
        "\n",
        "# 50cm 농어의 무게 \n",
        "print(lr.predict([[50**2, 50]]))\n",
        "\n",
        "# coef_ : 기울기, intercept_ : y절편\n",
        "print(lr.coef_, lr.intercept_)"
      ],
      "metadata": {
        "colab": {
          "base_uri": "https://localhost:8080/"
        },
        "id": "NY_MmYz3sUmK",
        "outputId": "cbdef743-3110-4bf6-9331-175a80c4785e"
      },
      "execution_count": null,
      "outputs": [
        {
          "output_type": "stream",
          "name": "stdout",
          "text": [
            "[1573.98423528]\n",
            "[  1.01433211 -21.55792498] 116.0502107827827\n"
          ]
        }
      ]
    },
    {
      "cell_type": "code",
      "source": [
        "# 6. 산점도 표시\n",
        "\n",
        "import matplotlib.pyplot as plt\n",
        "\n",
        "# 구간별 직선을 그리기 위해 15에서 49까지 정수 배열 생성\n",
        "point = np.arange(15, 50)\n",
        "\n",
        "# 훈련 데이터 산점도 표시\n",
        "plt.scatter(train_input, train_target)\n",
        "\n",
        "# 예측 데이터 산점도 표시\n",
        "plt.scatter([50], [1574], marker='^')\n",
        "\n",
        "# 15에서 40까지 2차 방정식 그래프를 작성\n",
        "# 무게 = 1.01 * 길이^2 - 21.6 * 길이 + 116.05\n",
        "plt.plot(point, 1.01*point**2 - 21.6*point + 116.05)\n",
        "\n",
        "plt.xlabel('length')\n",
        "plt.ylabel('weight')\n",
        "\n",
        "plt.show()"
      ],
      "metadata": {
        "colab": {
          "base_uri": "https://localhost:8080/",
          "height": 279
        },
        "id": "EIYFSRLjspXr",
        "outputId": "89111049-1c9d-47ff-d903-c4f1328c7163"
      },
      "execution_count": null,
      "outputs": [
        {
          "output_type": "display_data",
          "data": {
            "text/plain": [
              "<Figure size 432x288 with 1 Axes>"
            ],
            "image/png": "[encoded data removed]"
          },
          "metadata": {
            "needs_background": "light"
          }
        }
      ]
    }
  ]
}