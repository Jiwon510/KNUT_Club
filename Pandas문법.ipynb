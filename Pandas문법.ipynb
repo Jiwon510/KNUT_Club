{
  "nbformat": 4,
  "nbformat_minor": 0,
  "metadata": {
    "colab": {
      "name": "Pandas문법.ipynb",
      "provenance": [],
      "collapsed_sections": [],
      "authorship_tag": "ABX9TyPMK3Bmf8GhD5MMzezwuLey",
      "include_colab_link": true
    },
    "kernelspec": {
      "name": "python3",
      "display_name": "Python 3"
    },
    "language_info": {
      "name": "python"
    }
  },
  "cells": [
    {
      "cell_type": "markdown",
      "metadata": {
        "id": "view-in-github",
        "colab_type": "text"
      },
      "source": [
        "<a href=\"https://colab.research.google.com/github/Jiwon510/KNUT_Club/blob/master/Pandas%EB%AC%B8%EB%B2%95.ipynb\" target=\"_parent\"><img src=\"https://colab.research.google.com/assets/colab-badge.svg\" alt=\"Open In Colab\"/></a>"
      ]
    },
    {
      "cell_type": "code",
      "execution_count": null,
      "metadata": {
        "colab": {
          "base_uri": "https://localhost:8080/"
        },
        "id": "03VqrRFCgOfJ",
        "outputId": "c7357c35-9008-4070-a661-a62ffe42ab45"
      },
      "outputs": [
        {
          "output_type": "stream",
          "name": "stdout",
          "text": [
            "0     1\n",
            "1     2\n",
            "2     3\n",
            "3     4\n",
            "4     5\n",
            "5     A\n",
            "6     B\n",
            "7     C\n",
            "8     가\n",
            "9     나\n",
            "10    다\n",
            "dtype: object\n",
            "<class 'pandas.core.series.Series'>\n"
          ]
        }
      ],
      "source": [
        "# Series 생성\n",
        "import pandas as pd\n",
        "\n",
        "# Series 선언 \n",
        "data_series = pd.Series([1,2,3,4,5,'A','B','C','가','나','다'])\n",
        "\n",
        "print(data_series)\n",
        "print(type(data_series))"
      ]
    },
    {
      "cell_type": "code",
      "source": [
        "#index 설정\n",
        "import pandas as pd\n",
        "\n",
        "# 두 개의 리스트로 인덱스 설정(두번째 리스트가 인덱스로 설정)\n",
        "data_series1 = pd.Series([1,2,3,4,5,'A','B','C','가','나','다'],['a','b','c','d','e','f','g','h','i','j','k'])\n",
        "print(data_series1)\n",
        "\n",
        "# index의 인수로 인덱스 설정\n",
        "data_series2 = pd.Series([1,2,3,4,5,'A','B','C','가','나','다'], index = ['a','b','c','d','e','f','g','h','i','j','k'])\n",
        "print(data_series2)\n",
        "\n",
        "\n",
        "\n",
        "\n"
      ],
      "metadata": {
        "colab": {
          "base_uri": "https://localhost:8080/"
        },
        "id": "fIwp8pjDhJD4",
        "outputId": "e45efa49-0288-48c2-b1dc-dbae214b7b66"
      },
      "execution_count": null,
      "outputs": [
        {
          "output_type": "stream",
          "name": "stdout",
          "text": [
            "a    1\n",
            "b    2\n",
            "c    3\n",
            "d    4\n",
            "e    5\n",
            "f    A\n",
            "g    B\n",
            "h    C\n",
            "i    가\n",
            "j    나\n",
            "k    다\n",
            "dtype: object\n",
            "a    1\n",
            "b    2\n",
            "c    3\n",
            "d    4\n",
            "e    5\n",
            "f    A\n",
            "g    B\n",
            "h    C\n",
            "i    가\n",
            "j    나\n",
            "k    다\n",
            "dtype: object\n"
          ]
        }
      ]
    },
    {
      "cell_type": "code",
      "source": [
        "# 딕셔너리로 인덱스 설정\n",
        "import pandas as pd\n",
        "\n",
        "# key = 인덱스, value = 값\n",
        "data_series1 = pd.Series({'a':1, 'b':2, 'c':3, 'd':4, 'e':5})\n",
        "print(data_series1)\n",
        "\n",
        "\n",
        "#중복된 키가 있을 경우 첫번째 값은 삭제되고 두번째 값만 존재 \n",
        "data_series2 = pd.Series({'a':1, 'b':2, 'c':3, 'c':4, 'e':5})\n",
        "print(data_series2)"
      ],
      "metadata": {
        "colab": {
          "base_uri": "https://localhost:8080/"
        },
        "id": "tP9RdTZajnV4",
        "outputId": "c8b72c1b-75e4-4d4d-9930-3ef9cbcbd873"
      },
      "execution_count": null,
      "outputs": [
        {
          "output_type": "stream",
          "name": "stdout",
          "text": [
            "a    1\n",
            "b    2\n",
            "c    3\n",
            "d    4\n",
            "e    5\n",
            "dtype: int64\n",
            "a    1\n",
            "b    2\n",
            "c    4\n",
            "e    5\n",
            "dtype: int64\n"
          ]
        }
      ]
    },
    {
      "cell_type": "code",
      "source": [
        "# 딕셔너리로 DataFrame 생성 예제 \n",
        "import pandas as pd\n",
        "\n",
        "data_frame = pd.DataFrame({'A':[1,2,3,4], 'B':[5,6,7,8]})\n",
        "print(data_frame)\n",
        "print(type(data_frame))"
      ],
      "metadata": {
        "colab": {
          "base_uri": "https://localhost:8080/"
        },
        "id": "EAzv8Qf6kpH_",
        "outputId": "1c9a4aa4-4765-4f5f-d213-25cc6d8cc45f"
      },
      "execution_count": null,
      "outputs": [
        {
          "output_type": "stream",
          "name": "stdout",
          "text": [
            "   A  B\n",
            "0  1  5\n",
            "1  2  6\n",
            "2  3  7\n",
            "3  4  8\n",
            "<class 'pandas.core.frame.DataFrame'>\n"
          ]
        }
      ]
    },
    {
      "cell_type": "code",
      "source": [
        "#속성과 값을 따로정하여 DataFrame 생성하는 예제\n",
        "import pandas as pd\n",
        "\n",
        "data_frame = pd.DataFrame([[1,5], [2,6], [3,7], [4,8]], columns=['A','B'])\n",
        "print(data_frame )\n",
        "print(type(data_frame))\n"
      ],
      "metadata": {
        "colab": {
          "base_uri": "https://localhost:8080/"
        },
        "id": "Ca_K_drglXcn",
        "outputId": "6929fb6d-d657-4e9e-cc7d-896242ceda7b"
      },
      "execution_count": null,
      "outputs": [
        {
          "output_type": "stream",
          "name": "stdout",
          "text": [
            "   A  B\n",
            "0  1  5\n",
            "1  2  6\n",
            "2  3  7\n",
            "3  4  8\n",
            "<class 'pandas.core.frame.DataFrame'>\n"
          ]
        }
      ]
    },
    {
      "cell_type": "code",
      "source": [
        "# CSV 읽어오기\n",
        "import pandas as pd\n",
        "\n",
        "data = pd.read_csv('/sample_data/sample.csv')\n",
        "print(data)\n"
      ],
      "metadata": {
        "colab": {
          "base_uri": "https://localhost:8080/"
        },
        "id": "RmQFdEjDl0dP",
        "outputId": "7ad167d6-7937-4ff8-b1ce-787d8c111691"
      },
      "execution_count": null,
      "outputs": [
        {
          "output_type": "stream",
          "name": "stdout",
          "text": [
            "        학번  운영체제  논리회로   DB\n",
            "0   201001    64    60   84\n",
            "1   201002    98    55   79\n",
            "2   201003    82    94  100\n",
            "3   201004    69    93   52\n",
            "4   201005    78    75   85\n",
            "5   201006    58    96   60\n",
            "6   201007    95    70   80\n",
            "7   201008    71    73   51\n",
            "8   201009    81    52   62\n",
            "9   201010    51    87   80\n",
            "10  201011    89    94   56\n",
            "11  201012    69    98   51\n",
            "12  201013    98    99   77\n",
            "13  201014    62    60   54\n",
            "14  201015    53    58   62\n",
            "15  201016    81    88   87\n",
            "16  201017    53    74   98\n",
            "17  201018    56    67   68\n",
            "18  201019    87    65   70\n",
            "19  201020    50    54   66\n"
          ]
        }
      ]
    },
    {
      "cell_type": "code",
      "source": [
        "# EXCEL 읽어오기\n",
        "import pandas as pd\n",
        "\n",
        "# 엑셀파일에서 빈공간이 존재하면 NaN, Unnamed라는 이름으로 생성\n",
        "data = pd.read_excel('/sample_data/sample.xlsx')\n",
        "print(data)"
      ],
      "metadata": {
        "colab": {
          "base_uri": "https://localhost:8080/"
        },
        "id": "bVRsnchxl95W",
        "outputId": "897bd2bb-350f-4ee6-bf00-8fb4996e4d6a"
      },
      "execution_count": null,
      "outputs": [
        {
          "output_type": "stream",
          "name": "stdout",
          "text": [
            "    Unnamed: 0 Unnamed: 1 Unnamed: 2 Unnamed: 3 Unnamed: 4\n",
            "0          NaN         학번       운영체제       논리회로         DB\n",
            "1          NaN     201001         64         60         84\n",
            "2          NaN     201002         98         55         79\n",
            "3          NaN     201003         82         94        100\n",
            "4          NaN     201004         69         93         52\n",
            "5          NaN     201005         78         75         85\n",
            "6          NaN     201006         58         96         60\n",
            "7          NaN     201007         95         70         80\n",
            "8          NaN     201008         71         73         51\n",
            "9          NaN     201009         81         52         62\n",
            "10         NaN     201010         51         87         80\n",
            "11         NaN     201011         89         94         56\n",
            "12         NaN     201012         69         98         51\n",
            "13         NaN     201013         98         99         77\n",
            "14         NaN     201014         62         60         54\n",
            "15         NaN     201015         53         58         62\n",
            "16         NaN     201016         81         88         87\n",
            "17         NaN     201017         53         74         98\n",
            "18         NaN     201018         56         67         68\n",
            "19         NaN     201019         87         65         70\n",
            "20         NaN     201020         50         54         66\n"
          ]
        }
      ]
    },
    {
      "cell_type": "code",
      "source": [
        "# 인덱스 설정 : set_index()\n",
        "\n",
        "# drop = False\n",
        "import pandas as pd\n",
        "\n",
        "data = pd.read_csv('/sample_data/sample.csv')\n",
        "\n",
        "# 인덱스도 학번으로 바뀌고 원래 존재하던 열도 삭제되지 않음\n",
        "data2 = data.set_index('학번', drop = False)\n",
        "print(data2)\n"
      ],
      "metadata": {
        "colab": {
          "base_uri": "https://localhost:8080/"
        },
        "id": "hQOiIfoyoUO3",
        "outputId": "3fb790c8-52bd-4c87-9147-fba0590a31ab"
      },
      "execution_count": null,
      "outputs": [
        {
          "output_type": "stream",
          "name": "stdout",
          "text": [
            "            학번  운영체제  논리회로   DB\n",
            "학번                             \n",
            "201001  201001    64    60   84\n",
            "201002  201002    98    55   79\n",
            "201003  201003    82    94  100\n",
            "201004  201004    69    93   52\n",
            "201005  201005    78    75   85\n",
            "201006  201006    58    96   60\n",
            "201007  201007    95    70   80\n",
            "201008  201008    71    73   51\n",
            "201009  201009    81    52   62\n",
            "201010  201010    51    87   80\n",
            "201011  201011    89    94   56\n",
            "201012  201012    69    98   51\n",
            "201013  201013    98    99   77\n",
            "201014  201014    62    60   54\n",
            "201015  201015    53    58   62\n",
            "201016  201016    81    88   87\n",
            "201017  201017    53    74   98\n",
            "201018  201018    56    67   68\n",
            "201019  201019    87    65   70\n",
            "201020  201020    50    54   66\n"
          ]
        }
      ]
    },
    {
      "cell_type": "code",
      "source": [
        "# 인덱스 설정 : set_index()\n",
        "\n",
        "# drop = True\n",
        "import pandas as pd\n",
        "\n",
        "data = pd.read_csv('/sample_data/sample.csv')\n",
        "\n",
        "# 인덱스도 학번으로 바뀌고 원래 존재하던 열 삭제\n",
        "data2 = data.set_index('학번', drop = True)\n",
        "print(data2)"
      ],
      "metadata": {
        "colab": {
          "base_uri": "https://localhost:8080/"
        },
        "id": "PydKFiJoo3s-",
        "outputId": "fcb1a9f1-3b76-4513-e226-c3ac469edb26"
      },
      "execution_count": null,
      "outputs": [
        {
          "output_type": "stream",
          "name": "stdout",
          "text": [
            "        운영체제  논리회로   DB\n",
            "학번                     \n",
            "201001    64    60   84\n",
            "201002    98    55   79\n",
            "201003    82    94  100\n",
            "201004    69    93   52\n",
            "201005    78    75   85\n",
            "201006    58    96   60\n",
            "201007    95    70   80\n",
            "201008    71    73   51\n",
            "201009    81    52   62\n",
            "201010    51    87   80\n",
            "201011    89    94   56\n",
            "201012    69    98   51\n",
            "201013    98    99   77\n",
            "201014    62    60   54\n",
            "201015    53    58   62\n",
            "201016    81    88   87\n",
            "201017    53    74   98\n",
            "201018    56    67   68\n",
            "201019    87    65   70\n",
            "201020    50    54   66\n"
          ]
        }
      ]
    },
    {
      "cell_type": "code",
      "source": [
        "# 인덱스 설정 : reset_index()\n",
        "\n",
        "# drop = False\n",
        "import pandas as pd\n",
        "\n",
        "data = pd.read_csv('/sample_data/sample.csv')\n",
        "\n",
        "data = data.set_index('학번', drop = True)\n",
        "data2 = data.reset_index(drop = False)\n",
        "print(data)\n",
        "print(data2)\n"
      ],
      "metadata": {
        "colab": {
          "base_uri": "https://localhost:8080/"
        },
        "id": "Z60xwPjtpDX2",
        "outputId": "6b40c1d0-a11f-473a-85fc-3798df45046e"
      },
      "execution_count": null,
      "outputs": [
        {
          "output_type": "stream",
          "name": "stdout",
          "text": [
            "        운영체제  논리회로   DB\n",
            "학번                     \n",
            "201001    64    60   84\n",
            "201002    98    55   79\n",
            "201003    82    94  100\n",
            "201004    69    93   52\n",
            "201005    78    75   85\n",
            "201006    58    96   60\n",
            "201007    95    70   80\n",
            "201008    71    73   51\n",
            "201009    81    52   62\n",
            "201010    51    87   80\n",
            "201011    89    94   56\n",
            "201012    69    98   51\n",
            "201013    98    99   77\n",
            "201014    62    60   54\n",
            "201015    53    58   62\n",
            "201016    81    88   87\n",
            "201017    53    74   98\n",
            "201018    56    67   68\n",
            "201019    87    65   70\n",
            "201020    50    54   66\n",
            "        학번  운영체제  논리회로   DB\n",
            "0   201001    64    60   84\n",
            "1   201002    98    55   79\n",
            "2   201003    82    94  100\n",
            "3   201004    69    93   52\n",
            "4   201005    78    75   85\n",
            "5   201006    58    96   60\n",
            "6   201007    95    70   80\n",
            "7   201008    71    73   51\n",
            "8   201009    81    52   62\n",
            "9   201010    51    87   80\n",
            "10  201011    89    94   56\n",
            "11  201012    69    98   51\n",
            "12  201013    98    99   77\n",
            "13  201014    62    60   54\n",
            "14  201015    53    58   62\n",
            "15  201016    81    88   87\n",
            "16  201017    53    74   98\n",
            "17  201018    56    67   68\n",
            "18  201019    87    65   70\n",
            "19  201020    50    54   66\n"
          ]
        }
      ]
    },
    {
      "cell_type": "code",
      "source": [
        "# 인덱스 설정 : reset_index()\n",
        "\n",
        "# drop = True\n",
        "import pandas as pd\n",
        "\n",
        "data = pd.read_csv('/sample_data/sample.csv')\n",
        "\n",
        "data = data.set_index('학번', drop = True)\n",
        "data2 = data.reset_index(drop = False)\n",
        "print(data)\n",
        "print(data2)"
      ],
      "metadata": {
        "colab": {
          "base_uri": "https://localhost:8080/"
        },
        "id": "bL3090mxpsiG",
        "outputId": "8623d3e0-59ea-414d-fbb2-1a212f7f0d29"
      },
      "execution_count": null,
      "outputs": [
        {
          "output_type": "stream",
          "name": "stdout",
          "text": [
            "        운영체제  논리회로   DB\n",
            "학번                     \n",
            "201001    64    60   84\n",
            "201002    98    55   79\n",
            "201003    82    94  100\n",
            "201004    69    93   52\n",
            "201005    78    75   85\n",
            "201006    58    96   60\n",
            "201007    95    70   80\n",
            "201008    71    73   51\n",
            "201009    81    52   62\n",
            "201010    51    87   80\n",
            "201011    89    94   56\n",
            "201012    69    98   51\n",
            "201013    98    99   77\n",
            "201014    62    60   54\n",
            "201015    53    58   62\n",
            "201016    81    88   87\n",
            "201017    53    74   98\n",
            "201018    56    67   68\n",
            "201019    87    65   70\n",
            "201020    50    54   66\n",
            "        학번  운영체제  논리회로   DB\n",
            "0   201001    64    60   84\n",
            "1   201002    98    55   79\n",
            "2   201003    82    94  100\n",
            "3   201004    69    93   52\n",
            "4   201005    78    75   85\n",
            "5   201006    58    96   60\n",
            "6   201007    95    70   80\n",
            "7   201008    71    73   51\n",
            "8   201009    81    52   62\n",
            "9   201010    51    87   80\n",
            "10  201011    89    94   56\n",
            "11  201012    69    98   51\n",
            "12  201013    98    99   77\n",
            "13  201014    62    60   54\n",
            "14  201015    53    58   62\n",
            "15  201016    81    88   87\n",
            "16  201017    53    74   98\n",
            "17  201018    56    67   68\n",
            "18  201019    87    65   70\n",
            "19  201020    50    54   66\n"
          ]
        }
      ]
    },
    {
      "cell_type": "code",
      "source": [
        "# 데이터 전체 개수 확인\n",
        "import pandas as pd\n",
        "\n",
        "data = pd.read_csv('/sample_data/sample.csv')\n",
        "\n",
        "print(data)\n",
        "print(\"데이터의 전체 크기는\" , data.size)"
      ],
      "metadata": {
        "colab": {
          "base_uri": "https://localhost:8080/"
        },
        "id": "feHESKbwqEUu",
        "outputId": "f37932b0-f3bd-428f-df3a-e0334c797924"
      },
      "execution_count": null,
      "outputs": [
        {
          "output_type": "stream",
          "name": "stdout",
          "text": [
            "        학번  운영체제  논리회로   DB\n",
            "0   201001    64    60   84\n",
            "1   201002    98    55   79\n",
            "2   201003    82    94  100\n",
            "3   201004    69    93   52\n",
            "4   201005    78    75   85\n",
            "5   201006    58    96   60\n",
            "6   201007    95    70   80\n",
            "7   201008    71    73   51\n",
            "8   201009    81    52   62\n",
            "9   201010    51    87   80\n",
            "10  201011    89    94   56\n",
            "11  201012    69    98   51\n",
            "12  201013    98    99   77\n",
            "13  201014    62    60   54\n",
            "14  201015    53    58   62\n",
            "15  201016    81    88   87\n",
            "16  201017    53    74   98\n",
            "17  201018    56    67   68\n",
            "18  201019    87    65   70\n",
            "19  201020    50    54   66\n",
            "데이터의 전체 크기는 80\n"
          ]
        }
      ]
    },
    {
      "cell_type": "code",
      "source": [
        "# 데이터 columns 확인\n",
        "import pandas as pd\n",
        "\n",
        "data = pd.read_csv('/sample_data/sample.csv')\n",
        "\n",
        "data_columns = data.columns\n",
        "print(data_columns )\n",
        "\n",
        "columns_len = len(data_columns)\n",
        "print(\"데이터의 columns 크기는\" , columns_len)\n",
        "\n"
      ],
      "metadata": {
        "colab": {
          "base_uri": "https://localhost:8080/"
        },
        "id": "0UxTaLIJqTHu",
        "outputId": "7deccc3e-90cd-4a09-de98-217beee3a6b4"
      },
      "execution_count": null,
      "outputs": [
        {
          "output_type": "stream",
          "name": "stdout",
          "text": [
            "Index(['학번', '운영체제', '논리회로', 'DB'], dtype='object')\n",
            "데이터의 columns 크기는 4\n"
          ]
        }
      ]
    },
    {
      "cell_type": "code",
      "source": [
        "# 데이터 values 확인\n",
        "import pandas as pd\n",
        "\n",
        "data = pd.read_csv('/sample_data/sample.csv')\n",
        "\n",
        "data_values = data.values\n",
        "print(data_values)\n",
        "\n",
        "values_len = len(data_values)\n",
        "print(\"데이터의 values 크기는\" , values_len)"
      ],
      "metadata": {
        "colab": {
          "base_uri": "https://localhost:8080/"
        },
        "id": "ZBx0MCBWqivt",
        "outputId": "dfcf90fe-d107-4d3d-fa07-3cfb49e1497d"
      },
      "execution_count": null,
      "outputs": [
        {
          "output_type": "stream",
          "name": "stdout",
          "text": [
            "[[201001     64     60     84]\n",
            " [201002     98     55     79]\n",
            " [201003     82     94    100]\n",
            " [201004     69     93     52]\n",
            " [201005     78     75     85]\n",
            " [201006     58     96     60]\n",
            " [201007     95     70     80]\n",
            " [201008     71     73     51]\n",
            " [201009     81     52     62]\n",
            " [201010     51     87     80]\n",
            " [201011     89     94     56]\n",
            " [201012     69     98     51]\n",
            " [201013     98     99     77]\n",
            " [201014     62     60     54]\n",
            " [201015     53     58     62]\n",
            " [201016     81     88     87]\n",
            " [201017     53     74     98]\n",
            " [201018     56     67     68]\n",
            " [201019     87     65     70]\n",
            " [201020     50     54     66]]\n",
            "데이터의 values 크기는 20\n"
          ]
        }
      ]
    },
    {
      "cell_type": "code",
      "source": [
        "# column 데이터 선택\n",
        "import pandas as pd\n",
        "\n",
        "data = pd.read_csv('/sample_data/sample.csv')\n",
        "\n",
        "data_1 = data['운영체제']\n",
        "data_2 = data.운영체제\n",
        "data_3 = data[['운영체제', '논리회로']]\n",
        "\n",
        "print(data_1)\n",
        "print(data_2)\n",
        "print(data_3)"
      ],
      "metadata": {
        "colab": {
          "base_uri": "https://localhost:8080/"
        },
        "id": "p4cmhJfRrDWN",
        "outputId": "81db88e2-58ad-4857-bfa7-e57b37df8877"
      },
      "execution_count": null,
      "outputs": [
        {
          "output_type": "stream",
          "name": "stdout",
          "text": [
            "0     64\n",
            "1     98\n",
            "2     82\n",
            "3     69\n",
            "4     78\n",
            "5     58\n",
            "6     95\n",
            "7     71\n",
            "8     81\n",
            "9     51\n",
            "10    89\n",
            "11    69\n",
            "12    98\n",
            "13    62\n",
            "14    53\n",
            "15    81\n",
            "16    53\n",
            "17    56\n",
            "18    87\n",
            "19    50\n",
            "Name: 운영체제, dtype: int64\n",
            "0     64\n",
            "1     98\n",
            "2     82\n",
            "3     69\n",
            "4     78\n",
            "5     58\n",
            "6     95\n",
            "7     71\n",
            "8     81\n",
            "9     51\n",
            "10    89\n",
            "11    69\n",
            "12    98\n",
            "13    62\n",
            "14    53\n",
            "15    81\n",
            "16    53\n",
            "17    56\n",
            "18    87\n",
            "19    50\n",
            "Name: 운영체제, dtype: int64\n",
            "    운영체제  논리회로\n",
            "0     64    60\n",
            "1     98    55\n",
            "2     82    94\n",
            "3     69    93\n",
            "4     78    75\n",
            "5     58    96\n",
            "6     95    70\n",
            "7     71    73\n",
            "8     81    52\n",
            "9     51    87\n",
            "10    89    94\n",
            "11    69    98\n",
            "12    98    99\n",
            "13    62    60\n",
            "14    53    58\n",
            "15    81    88\n",
            "16    53    74\n",
            "17    56    67\n",
            "18    87    65\n",
            "19    50    54\n"
          ]
        }
      ]
    },
    {
      "cell_type": "code",
      "source": [
        "# row 데이터 선택\n",
        "import pandas as pd\n",
        "\n",
        "data = pd.read_csv('/sample_data/sample.csv')\n",
        "\n",
        "data_1 = data[0:5]\n",
        "print(data_1)"
      ],
      "metadata": {
        "colab": {
          "base_uri": "https://localhost:8080/"
        },
        "id": "_6ygCnMTrZjd",
        "outputId": "9b21fffd-5824-418b-9453-9e9315a00ea0"
      },
      "execution_count": null,
      "outputs": [
        {
          "output_type": "stream",
          "name": "stdout",
          "text": [
            "       학번  운영체제  논리회로   DB\n",
            "0  201001    64    60   84\n",
            "1  201002    98    55   79\n",
            "2  201003    82    94  100\n",
            "3  201004    69    93   52\n",
            "4  201005    78    75   85\n"
          ]
        }
      ]
    },
    {
      "cell_type": "code",
      "source": [
        "# loc 데이터 선택\n",
        "import pandas as pd\n",
        "\n",
        "data = pd.read_csv('/sample_data/sample.csv')\n",
        "\n",
        "data_1 = data.loc[0]\n",
        "data_2 = data.loc[0:3, ['논리회로','운영체제']]\n",
        "\n",
        "print(data_1)\n",
        "print(data_2)"
      ],
      "metadata": {
        "colab": {
          "base_uri": "https://localhost:8080/"
        },
        "id": "0QTMxH27rZdG",
        "outputId": "52243963-812a-46a2-a5b6-fcb10395ed49"
      },
      "execution_count": null,
      "outputs": [
        {
          "output_type": "stream",
          "name": "stdout",
          "text": [
            "학번      201001\n",
            "운영체제        64\n",
            "논리회로        60\n",
            "DB          84\n",
            "Name: 0, dtype: int64\n",
            "   논리회로  운영체제\n",
            "0    60    64\n",
            "1    55    98\n",
            "2    94    82\n",
            "3    93    69\n"
          ]
        }
      ]
    },
    {
      "cell_type": "code",
      "source": [
        "# iloc으로 데이터 선택\n",
        "import pandas as pd\n",
        "\n",
        "data = pd.read_csv('/sample_data/sample.csv')\n",
        "\n",
        "data_1 = data.iloc[0, 1:4]\n",
        "data_2 = data.iloc[0:3, [1,3]]\n",
        "data_3 = data.iloc[[2,4,10], [1,2]]\n",
        "\n",
        "print(data_1)\n",
        "print(data_2)\n",
        "print(data_3)"
      ],
      "metadata": {
        "colab": {
          "base_uri": "https://localhost:8080/"
        },
        "id": "AHLi_FFArZWt",
        "outputId": "dd1a64de-e7fc-4e35-f112-606d710914ce"
      },
      "execution_count": null,
      "outputs": [
        {
          "output_type": "stream",
          "name": "stdout",
          "text": [
            "운영체제    64\n",
            "논리회로    60\n",
            "DB      84\n",
            "Name: 0, dtype: int64\n",
            "   운영체제   DB\n",
            "0    64   84\n",
            "1    98   79\n",
            "2    82  100\n",
            "    운영체제  논리회로\n",
            "2     82    94\n",
            "4     78    75\n",
            "10    89    94\n"
          ]
        }
      ]
    },
    {
      "cell_type": "code",
      "source": [
        "# 한 개의 데이터 선택\n",
        "import pandas as pd\n",
        "\n",
        "data = pd.read_csv('/sample_data/sample.csv')\n",
        "\n",
        "data_1 = data.loc[0, ['논리회로']]\n",
        "data_2 = data.iloc[2, [1]]\n",
        "data_3 = data.at[0, '논리회로']\n",
        "data_4 = data.iat[2, 1]\n",
        "\n",
        "print(data_1)\n",
        "print(data_2)\n",
        "print(data_3)\n",
        "print(data_4)"
      ],
      "metadata": {
        "colab": {
          "base_uri": "https://localhost:8080/"
        },
        "id": "VFsMe5ZsrZQt",
        "outputId": "80b8d720-78a9-499a-cfab-d12620d0e093"
      },
      "execution_count": null,
      "outputs": [
        {
          "output_type": "stream",
          "name": "stdout",
          "text": [
            "논리회로    60\n",
            "Name: 0, dtype: int64\n",
            "운영체제    82\n",
            "Name: 2, dtype: int64\n",
            "60\n",
            "82\n"
          ]
        }
      ]
    },
    {
      "cell_type": "code",
      "source": [
        "# 조건을 이용한 데이터 선택\n",
        "import pandas as pd\n",
        "\n",
        "data = pd.read_csv('/sample_data/sample.csv')\n",
        "\n",
        "data_1 = data[data['논리회로'] >= 80]\n",
        "print(data_1)\n",
        "\n",
        "data_2 = data[(data['논리회로'] >= 60) & (data['운영체제'] >= 90) ]\n",
        "print(data_2)"
      ],
      "metadata": {
        "colab": {
          "base_uri": "https://localhost:8080/"
        },
        "id": "_1G3pVbDrZJ2",
        "outputId": "2e46535f-c2a1-4d9d-d063-3a1b1f3c7660"
      },
      "execution_count": null,
      "outputs": [
        {
          "output_type": "stream",
          "name": "stdout",
          "text": [
            "        학번  운영체제  논리회로   DB\n",
            "2   201003    82    94  100\n",
            "3   201004    69    93   52\n",
            "5   201006    58    96   60\n",
            "9   201010    51    87   80\n",
            "10  201011    89    94   56\n",
            "11  201012    69    98   51\n",
            "12  201013    98    99   77\n",
            "15  201016    81    88   87\n",
            "        학번  운영체제  논리회로  DB\n",
            "6   201007    95    70  80\n",
            "12  201013    98    99  77\n"
          ]
        }
      ]
    },
    {
      "cell_type": "code",
      "source": [
        "# 필터를 이용한 데이터 선택 : isin()\n",
        "import pandas as pd\n",
        "\n",
        "data = pd.read_csv('/sample_data/sample.csv')\n",
        "\n",
        "data_1 = data['논리회로'].isin([60,93])\n",
        "print(data_1)\n",
        "\n",
        "data_2 = data[data['논리회로'].isin([60,93])]\n",
        "print(data_2)\n",
        "\n",
        "data_3 = data[data.isin( [ 60, 98] )]\n",
        "print(data_3)\n"
      ],
      "metadata": {
        "colab": {
          "base_uri": "https://localhost:8080/"
        },
        "id": "ai3YKWfGrZDV",
        "outputId": "b34cce4a-7d35-4b9e-baae-e30132c6aafe"
      },
      "execution_count": null,
      "outputs": [
        {
          "output_type": "stream",
          "name": "stdout",
          "text": [
            "0      True\n",
            "1     False\n",
            "2     False\n",
            "3      True\n",
            "4     False\n",
            "5     False\n",
            "6     False\n",
            "7     False\n",
            "8     False\n",
            "9     False\n",
            "10    False\n",
            "11    False\n",
            "12    False\n",
            "13     True\n",
            "14    False\n",
            "15    False\n",
            "16    False\n",
            "17    False\n",
            "18    False\n",
            "19    False\n",
            "Name: 논리회로, dtype: bool\n",
            "        학번  운영체제  논리회로  DB\n",
            "0   201001    64    60  84\n",
            "3   201004    69    93  52\n",
            "13  201014    62    60  54\n",
            "    학번  운영체제  논리회로    DB\n",
            "0  NaN   NaN  60.0   NaN\n",
            "1  NaN  98.0   NaN   NaN\n",
            "2  NaN   NaN   NaN   NaN\n",
            "3  NaN   NaN   NaN   NaN\n",
            "4  NaN   NaN   NaN   NaN\n",
            "5  NaN   NaN   NaN  60.0\n",
            "6  NaN   NaN   NaN   NaN\n",
            "7  NaN   NaN   NaN   NaN\n",
            "8  NaN   NaN   NaN   NaN\n",
            "9  NaN   NaN   NaN   NaN\n",
            "10 NaN   NaN   NaN   NaN\n",
            "11 NaN   NaN  98.0   NaN\n",
            "12 NaN  98.0   NaN   NaN\n",
            "13 NaN   NaN  60.0   NaN\n",
            "14 NaN   NaN   NaN   NaN\n",
            "15 NaN   NaN   NaN   NaN\n",
            "16 NaN   NaN   NaN  98.0\n",
            "17 NaN   NaN   NaN   NaN\n",
            "18 NaN   NaN   NaN   NaN\n",
            "19 NaN   NaN   NaN   NaN\n"
          ]
        }
      ]
    },
    {
      "cell_type": "code",
      "source": [
        "# 열 값 전체 변경하기\n",
        "import pandas as pd\n",
        "\n",
        "data = pd.read_csv('/sample_data/sample.csv')\n",
        "print(data)\n",
        "\n",
        "data['DB'] =[57,54,53,80,84,88,79,64,75,65,84,90,72,95,100,94,85,63,57,95]\n",
        "print(data)\n"
      ],
      "metadata": {
        "colab": {
          "base_uri": "https://localhost:8080/"
        },
        "id": "IZFSIHm8rY8-",
        "outputId": "d55c8a1d-4f1f-41c9-879d-7df38d4e3450"
      },
      "execution_count": null,
      "outputs": [
        {
          "output_type": "stream",
          "name": "stdout",
          "text": [
            "        학번  운영체제  논리회로   DB\n",
            "0   201001    64    60   84\n",
            "1   201002    98    55   79\n",
            "2   201003    82    94  100\n",
            "3   201004    69    93   52\n",
            "4   201005    78    75   85\n",
            "5   201006    58    96   60\n",
            "6   201007    95    70   80\n",
            "7   201008    71    73   51\n",
            "8   201009    81    52   62\n",
            "9   201010    51    87   80\n",
            "10  201011    89    94   56\n",
            "11  201012    69    98   51\n",
            "12  201013    98    99   77\n",
            "13  201014    62    60   54\n",
            "14  201015    53    58   62\n",
            "15  201016    81    88   87\n",
            "16  201017    53    74   98\n",
            "17  201018    56    67   68\n",
            "18  201019    87    65   70\n",
            "19  201020    50    54   66\n",
            "        학번  운영체제  논리회로   DB\n",
            "0   201001    64    60   57\n",
            "1   201002    98    55   54\n",
            "2   201003    82    94   53\n",
            "3   201004    69    93   80\n",
            "4   201005    78    75   84\n",
            "5   201006    58    96   88\n",
            "6   201007    95    70   79\n",
            "7   201008    71    73   64\n",
            "8   201009    81    52   75\n",
            "9   201010    51    87   65\n",
            "10  201011    89    94   84\n",
            "11  201012    69    98   90\n",
            "12  201013    98    99   72\n",
            "13  201014    62    60   95\n",
            "14  201015    53    58  100\n",
            "15  201016    81    88   94\n",
            "16  201017    53    74   85\n",
            "17  201018    56    67   63\n",
            "18  201019    87    65   57\n",
            "19  201020    50    54   95\n"
          ]
        }
      ]
    },
    {
      "cell_type": "code",
      "source": [
        "# 열 값 추가 하기\n",
        "import pandas as pd\n",
        "\n",
        "data = pd.read_csv('/sample_data/sample.csv')\n",
        "print(data)\n",
        "\n",
        "data['새과목'] = [57,54,53,80,84,88,79,64,75,65,84,90,72,95,100,94,85,63,57,95]\n",
        "print(data)"
      ],
      "metadata": {
        "colab": {
          "base_uri": "https://localhost:8080/"
        },
        "id": "h-0qqciSrY2l",
        "outputId": "960d7adf-8fa0-4e4f-8394-07b09a2bee3e"
      },
      "execution_count": null,
      "outputs": [
        {
          "output_type": "stream",
          "name": "stdout",
          "text": [
            "        학번  운영체제  논리회로   DB\n",
            "0   201001    64    60   84\n",
            "1   201002    98    55   79\n",
            "2   201003    82    94  100\n",
            "3   201004    69    93   52\n",
            "4   201005    78    75   85\n",
            "5   201006    58    96   60\n",
            "6   201007    95    70   80\n",
            "7   201008    71    73   51\n",
            "8   201009    81    52   62\n",
            "9   201010    51    87   80\n",
            "10  201011    89    94   56\n",
            "11  201012    69    98   51\n",
            "12  201013    98    99   77\n",
            "13  201014    62    60   54\n",
            "14  201015    53    58   62\n",
            "15  201016    81    88   87\n",
            "16  201017    53    74   98\n",
            "17  201018    56    67   68\n",
            "18  201019    87    65   70\n",
            "19  201020    50    54   66\n",
            "        학번  운영체제  논리회로   DB  새과목\n",
            "0   201001    64    60   84   57\n",
            "1   201002    98    55   79   54\n",
            "2   201003    82    94  100   53\n",
            "3   201004    69    93   52   80\n",
            "4   201005    78    75   85   84\n",
            "5   201006    58    96   60   88\n",
            "6   201007    95    70   80   79\n",
            "7   201008    71    73   51   64\n",
            "8   201009    81    52   62   75\n",
            "9   201010    51    87   80   65\n",
            "10  201011    89    94   56   84\n",
            "11  201012    69    98   51   90\n",
            "12  201013    98    99   77   72\n",
            "13  201014    62    60   54   95\n",
            "14  201015    53    58   62  100\n",
            "15  201016    81    88   87   94\n",
            "16  201017    53    74   98   85\n",
            "17  201018    56    67   68   63\n",
            "18  201019    87    65   70   57\n",
            "19  201020    50    54   66   95\n"
          ]
        }
      ]
    },
    {
      "cell_type": "code",
      "source": [
        "# 한 개의 값 변경하기\n",
        "import pandas as pd\n",
        "\n",
        "data = pd.read_csv('/sample_data/sample.csv')\n",
        "print( data.at[0, '운영체제'])\n",
        "\n",
        "data.at[0, '운영체제'] = 100\n",
        "print( data.at[0, '운영체제'])"
      ],
      "metadata": {
        "colab": {
          "base_uri": "https://localhost:8080/"
        },
        "id": "JfuFNpzRrYwV",
        "outputId": "f2cb9a83-62b0-44e7-b019-a974e99e19bc"
      },
      "execution_count": null,
      "outputs": [
        {
          "output_type": "stream",
          "name": "stdout",
          "text": [
            "64\n",
            "100\n"
          ]
        }
      ]
    },
    {
      "cell_type": "code",
      "source": [
        "# 여러 개의 행 값 변경하기\n",
        "import pandas as pd\n",
        "\n",
        "data = pd.read_csv('/sample_data/sample.csv')\n",
        "print( data.loc[1:3, '운영체제'])\n",
        "\n",
        "data.loc[1:3, '운영체제'] = [100, 99, 98]\n",
        "print( data.loc[1:3, '운영체제'])"
      ],
      "metadata": {
        "colab": {
          "base_uri": "https://localhost:8080/"
        },
        "id": "iN8X77XlrYqG",
        "outputId": "56104734-2cc5-49cd-d14c-56596296a50e"
      },
      "execution_count": null,
      "outputs": [
        {
          "output_type": "stream",
          "name": "stdout",
          "text": [
            "1    98\n",
            "2    82\n",
            "3    69\n",
            "Name: 운영체제, dtype: int64\n",
            "1    100\n",
            "2     99\n",
            "3     98\n",
            "Name: 운영체제, dtype: int64\n"
          ]
        }
      ]
    },
    {
      "cell_type": "code",
      "source": [
        "# 여러 개의 행, 열 값 변경하기\n",
        "import pandas as pd\n",
        "\n",
        "data = pd.read_csv('/sample_data/sample.csv')\n",
        "print( data.loc[0:3, ['논리회로','DB']])\n",
        "\n",
        "data.loc[0:3, ['논리회로','DB']] = [[10,10], [20,20], [30,30], [40,40]]\n",
        "print( data.loc[0:3, ['논리회로','DB']])"
      ],
      "metadata": {
        "colab": {
          "base_uri": "https://localhost:8080/"
        },
        "id": "13URqKzsrYjf",
        "outputId": "7738064d-4b84-4298-9433-b86f0dec7fd5"
      },
      "execution_count": null,
      "outputs": [
        {
          "output_type": "stream",
          "name": "stdout",
          "text": [
            "   논리회로   DB\n",
            "0    60   84\n",
            "1    55   79\n",
            "2    94  100\n",
            "3    93   52\n",
            "   논리회로  DB\n",
            "0    10  10\n",
            "1    20  20\n",
            "2    30  30\n",
            "3    40  40\n"
          ]
        }
      ]
    },
    {
      "cell_type": "code",
      "source": [
        "# drop()으로 행 또는 열 삭제하기\n",
        "import pandas as pd\n",
        "\n",
        "data = pd.read_csv('/sample_data/sample.csv')\n",
        "\n",
        "data_1 = data.drop(2)\n",
        "data_2 = data.drop([5,7])\n",
        "data_3 = data.drop('논리회로', axis = 1)\n",
        "data_4 = data.drop(['운영체제','논리회로'], axis = 1)\n",
        "\n",
        "print(data_1)\n",
        "print(data_2)\n",
        "print(data_3)\n",
        "print(data_4)"
      ],
      "metadata": {
        "colab": {
          "base_uri": "https://localhost:8080/"
        },
        "id": "rtMZN1-6rYc-",
        "outputId": "645b0e79-959f-4583-b2d4-d4bf5637df44"
      },
      "execution_count": null,
      "outputs": [
        {
          "output_type": "stream",
          "name": "stdout",
          "text": [
            "        학번  운영체제  논리회로  DB\n",
            "0   201001    64    60  84\n",
            "1   201002    98    55  79\n",
            "3   201004    69    93  52\n",
            "4   201005    78    75  85\n",
            "5   201006    58    96  60\n",
            "6   201007    95    70  80\n",
            "7   201008    71    73  51\n",
            "8   201009    81    52  62\n",
            "9   201010    51    87  80\n",
            "10  201011    89    94  56\n",
            "11  201012    69    98  51\n",
            "12  201013    98    99  77\n",
            "13  201014    62    60  54\n",
            "14  201015    53    58  62\n",
            "15  201016    81    88  87\n",
            "16  201017    53    74  98\n",
            "17  201018    56    67  68\n",
            "18  201019    87    65  70\n",
            "19  201020    50    54  66\n",
            "        학번  운영체제  논리회로   DB\n",
            "0   201001    64    60   84\n",
            "1   201002    98    55   79\n",
            "2   201003    82    94  100\n",
            "3   201004    69    93   52\n",
            "4   201005    78    75   85\n",
            "6   201007    95    70   80\n",
            "8   201009    81    52   62\n",
            "9   201010    51    87   80\n",
            "10  201011    89    94   56\n",
            "11  201012    69    98   51\n",
            "12  201013    98    99   77\n",
            "13  201014    62    60   54\n",
            "14  201015    53    58   62\n",
            "15  201016    81    88   87\n",
            "16  201017    53    74   98\n",
            "17  201018    56    67   68\n",
            "18  201019    87    65   70\n",
            "19  201020    50    54   66\n",
            "        학번  운영체제   DB\n",
            "0   201001    64   84\n",
            "1   201002    98   79\n",
            "2   201003    82  100\n",
            "3   201004    69   52\n",
            "4   201005    78   85\n",
            "5   201006    58   60\n",
            "6   201007    95   80\n",
            "7   201008    71   51\n",
            "8   201009    81   62\n",
            "9   201010    51   80\n",
            "10  201011    89   56\n",
            "11  201012    69   51\n",
            "12  201013    98   77\n",
            "13  201014    62   54\n",
            "14  201015    53   62\n",
            "15  201016    81   87\n",
            "16  201017    53   98\n",
            "17  201018    56   68\n",
            "18  201019    87   70\n",
            "19  201020    50   66\n",
            "        학번   DB\n",
            "0   201001   84\n",
            "1   201002   79\n",
            "2   201003  100\n",
            "3   201004   52\n",
            "4   201005   85\n",
            "5   201006   60\n",
            "6   201007   80\n",
            "7   201008   51\n",
            "8   201009   62\n",
            "9   201010   80\n",
            "10  201011   56\n",
            "11  201012   51\n",
            "12  201013   77\n",
            "13  201014   54\n",
            "14  201015   62\n",
            "15  201016   87\n",
            "16  201017   98\n",
            "17  201018   68\n",
            "18  201019   70\n",
            "19  201020   66\n"
          ]
        }
      ]
    },
    {
      "cell_type": "code",
      "source": [
        "# pop()으로 값 삭제하기\n",
        "import pandas as pd\n",
        "\n",
        "data = pd.read_csv('/sample_data/sample.csv')\n",
        "data_1 = data.pop('논리회로')\n",
        "\n",
        "print(data_1)\n",
        "print(data)"
      ],
      "metadata": {
        "colab": {
          "base_uri": "https://localhost:8080/"
        },
        "id": "DdkkGfEOrYV1",
        "outputId": "bb546e61-0df6-4bed-b5b7-c8e4f09eaa4d"
      },
      "execution_count": null,
      "outputs": [
        {
          "output_type": "stream",
          "name": "stdout",
          "text": [
            "0     60\n",
            "1     55\n",
            "2     94\n",
            "3     93\n",
            "4     75\n",
            "5     96\n",
            "6     70\n",
            "7     73\n",
            "8     52\n",
            "9     87\n",
            "10    94\n",
            "11    98\n",
            "12    99\n",
            "13    60\n",
            "14    58\n",
            "15    88\n",
            "16    74\n",
            "17    67\n",
            "18    65\n",
            "19    54\n",
            "Name: 논리회로, dtype: int64\n",
            "        학번  운영체제   DB\n",
            "0   201001    64   84\n",
            "1   201002    98   79\n",
            "2   201003    82  100\n",
            "3   201004    69   52\n",
            "4   201005    78   85\n",
            "5   201006    58   60\n",
            "6   201007    95   80\n",
            "7   201008    71   51\n",
            "8   201009    81   62\n",
            "9   201010    51   80\n",
            "10  201011    89   56\n",
            "11  201012    69   51\n",
            "12  201013    98   77\n",
            "13  201014    62   54\n",
            "14  201015    53   62\n",
            "15  201016    81   87\n",
            "16  201017    53   98\n",
            "17  201018    56   68\n",
            "18  201019    87   70\n",
            "19  201020    50   66\n"
          ]
        }
      ]
    },
    {
      "cell_type": "code",
      "source": [
        "# 결측값 처리\n",
        "import pandas as pd\n",
        "\n",
        "data = pd.read_csv('/sample_data/sample.csv')\n",
        "\n",
        "data_1 = data.dropna()\n",
        "print(data_1)"
      ],
      "metadata": {
        "colab": {
          "base_uri": "https://localhost:8080/"
        },
        "id": "heLoWSAvweCn",
        "outputId": "87daf854-ac71-4450-b693-69d59dc2970c"
      },
      "execution_count": null,
      "outputs": [
        {
          "output_type": "stream",
          "name": "stdout",
          "text": [
            "        학번  운영체제  논리회로   DB\n",
            "0   201001    64    60   84\n",
            "1   201002    98    55   79\n",
            "2   201003    82    94  100\n",
            "3   201004    69    93   52\n",
            "4   201005    78    75   85\n",
            "5   201006    58    96   60\n",
            "6   201007    95    70   80\n",
            "7   201008    71    73   51\n",
            "8   201009    81    52   62\n",
            "9   201010    51    87   80\n",
            "10  201011    89    94   56\n",
            "11  201012    69    98   51\n",
            "12  201013    98    99   77\n",
            "13  201014    62    60   54\n",
            "14  201015    53    58   62\n",
            "15  201016    81    88   87\n",
            "16  201017    53    74   98\n",
            "17  201018    56    67   68\n",
            "18  201019    87    65   70\n",
            "19  201020    50    54   66\n"
          ]
        }
      ]
    },
    {
      "cell_type": "code",
      "source": [
        "# 지정한 값을 다른 데이터로 변경\n",
        "import pandas as pd\n",
        "\n",
        "data = pd.read_csv('/sample_data/sample.csv')\n",
        "\n",
        "data = data.replace(100, 0)\n",
        "print(data)"
      ],
      "metadata": {
        "colab": {
          "base_uri": "https://localhost:8080/"
        },
        "id": "LKmjKk6IweAs",
        "outputId": "70b30257-30e5-4172-caac-c5c46ec8838f"
      },
      "execution_count": null,
      "outputs": [
        {
          "output_type": "stream",
          "name": "stdout",
          "text": [
            "        학번  운영체제  논리회로  DB\n",
            "0   201001    64    60  84\n",
            "1   201002    98    55  79\n",
            "2   201003    82    94   0\n",
            "3   201004    69    93  52\n",
            "4   201005    78    75  85\n",
            "5   201006    58    96  60\n",
            "6   201007    95    70  80\n",
            "7   201008    71    73  51\n",
            "8   201009    81    52  62\n",
            "9   201010    51    87  80\n",
            "10  201011    89    94  56\n",
            "11  201012    69    98  51\n",
            "12  201013    98    99  77\n",
            "13  201014    62    60  54\n",
            "14  201015    53    58  62\n",
            "15  201016    81    88  87\n",
            "16  201017    53    74  98\n",
            "17  201018    56    67  68\n",
            "18  201019    87    65  70\n",
            "19  201020    50    54  66\n"
          ]
        }
      ]
    },
    {
      "cell_type": "code",
      "source": [
        "# 함수를 사용하여 값 변경\n",
        "import pandas as pd\n",
        "\n",
        "data = pd.read_csv('/sample_data/sample.csv')\n",
        "\n",
        "def func(row):\n",
        "  if row > 90:\n",
        "    return 'A'\n",
        "  elif row > 80:\n",
        "    return 'B'\n",
        "  else:\n",
        "    return 'C'\n",
        "\n",
        "data['성적'] = data['논리회로'].apply(func)\n",
        "print(data)"
      ],
      "metadata": {
        "colab": {
          "base_uri": "https://localhost:8080/"
        },
        "id": "ZE6FkrKxwd-k",
        "outputId": "4d75b58e-22ba-463a-94f1-cf5913d9655f"
      },
      "execution_count": null,
      "outputs": [
        {
          "output_type": "stream",
          "name": "stdout",
          "text": [
            "        학번  운영체제  논리회로   DB 성적\n",
            "0   201001    64    60   84  C\n",
            "1   201002    98    55   79  C\n",
            "2   201003    82    94  100  A\n",
            "3   201004    69    93   52  A\n",
            "4   201005    78    75   85  C\n",
            "5   201006    58    96   60  A\n",
            "6   201007    95    70   80  C\n",
            "7   201008    71    73   51  C\n",
            "8   201009    81    52   62  C\n",
            "9   201010    51    87   80  B\n",
            "10  201011    89    94   56  A\n",
            "11  201012    69    98   51  A\n",
            "12  201013    98    99   77  A\n",
            "13  201014    62    60   54  C\n",
            "14  201015    53    58   62  C\n",
            "15  201016    81    88   87  B\n",
            "16  201017    53    74   98  C\n",
            "17  201018    56    67   68  C\n",
            "18  201019    87    65   70  C\n",
            "19  201020    50    54   66  C\n"
          ]
        }
      ]
    },
    {
      "cell_type": "code",
      "source": [
        "# insert()로 원하는 위치에 열 입력하기\n",
        "import pandas as pd\n",
        "\n",
        "data = pd.read_csv('/sample_data/sample.csv')\n",
        "\n",
        "column_name = \"새과목\"\n",
        "column_value = [57,54,53,80,84,88,79,64,75,65,84,90,72,95,100,94,85,63,57,95]\n",
        "data.insert(1, column_name, column_value)\n",
        "print(data)"
      ],
      "metadata": {
        "colab": {
          "base_uri": "https://localhost:8080/"
        },
        "id": "dyyfUmbswd8d",
        "outputId": "8de0fd5b-84dd-4253-9e22-44d63ab61b38"
      },
      "execution_count": null,
      "outputs": [
        {
          "output_type": "stream",
          "name": "stdout",
          "text": [
            "        학번  새과목  운영체제  논리회로   DB\n",
            "0   201001   57    64    60   84\n",
            "1   201002   54    98    55   79\n",
            "2   201003   53    82    94  100\n",
            "3   201004   80    69    93   52\n",
            "4   201005   84    78    75   85\n",
            "5   201006   88    58    96   60\n",
            "6   201007   79    95    70   80\n",
            "7   201008   64    71    73   51\n",
            "8   201009   75    81    52   62\n",
            "9   201010   65    51    87   80\n",
            "10  201011   84    89    94   56\n",
            "11  201012   90    69    98   51\n",
            "12  201013   72    98    99   77\n",
            "13  201014   95    62    60   54\n",
            "14  201015  100    53    58   62\n",
            "15  201016   94    81    88   87\n",
            "16  201017   85    53    74   98\n",
            "17  201018   63    56    67   68\n",
            "18  201019   57    87    65   70\n",
            "19  201020   95    50    54   66\n"
          ]
        }
      ]
    },
    {
      "cell_type": "code",
      "source": [
        "# head = 앞부분 , tail = 뒷부분\n",
        "import pandas as pd\n",
        "\n",
        "data = pd.read_csv('/sample_data/sample.csv')\n",
        "\n",
        "data_head = data.head(3)\n",
        "data_tail = data.tail()\n",
        "\n",
        "print(data_head)\n",
        "print(data_tail)\n",
        "\n"
      ],
      "metadata": {
        "colab": {
          "base_uri": "https://localhost:8080/"
        },
        "id": "vJ8nPbEbwd6c",
        "outputId": "a280f596-5429-478c-c882-86daa51e6f26"
      },
      "execution_count": null,
      "outputs": [
        {
          "output_type": "stream",
          "name": "stdout",
          "text": [
            "       학번  운영체제  논리회로   DB\n",
            "0  201001    64    60   84\n",
            "1  201002    98    55   79\n",
            "2  201003    82    94  100\n",
            "        학번  운영체제  논리회로  DB\n",
            "15  201016    81    88  87\n",
            "16  201017    53    74  98\n",
            "17  201018    56    67  68\n",
            "18  201019    87    65  70\n",
            "19  201020    50    54  66\n"
          ]
        }
      ]
    },
    {
      "cell_type": "code",
      "source": [
        "# describe = 통계적 함수로 변경\n",
        "import pandas as pd\n",
        "\n",
        "data = pd.read_csv('/sample_data/sample.csv')\n",
        "\n",
        "data_describe = data.describe()\n",
        "print(data_describe)\n"
      ],
      "metadata": {
        "colab": {
          "base_uri": "https://localhost:8080/"
        },
        "id": "pySZ1GFewd4N",
        "outputId": "a1277e39-969a-4f63-8982-bc013874dd79"
      },
      "execution_count": null,
      "outputs": [
        {
          "output_type": "stream",
          "name": "stdout",
          "text": [
            "                 학번       운영체제       논리회로          DB\n",
            "count      20.00000  20.000000  20.000000   20.000000\n",
            "mean   201010.50000  72.250000  75.600000   71.100000\n",
            "std         5.91608  16.179503  16.544676   15.296714\n",
            "min    201001.00000  50.000000  52.000000   51.000000\n",
            "25%    201005.75000  57.500000  60.000000   59.000000\n",
            "50%    201010.50000  70.000000  73.500000   69.000000\n",
            "75%    201015.25000  83.250000  93.250000   81.000000\n",
            "max    201020.00000  98.000000  99.000000  100.000000\n"
          ]
        }
      ]
    },
    {
      "cell_type": "code",
      "source": [
        "# 행과 열 바꾸기\n",
        "import pandas as pd\n",
        "\n",
        "data = pd.read_csv('/sample_data/sample.csv')\n",
        "\n",
        "data_T = data.T\n",
        "data_t = data.transpose()\n",
        "\n",
        "print(data_T)\n",
        "print(data_t)"
      ],
      "metadata": {
        "colab": {
          "base_uri": "https://localhost:8080/"
        },
        "id": "4iu4MAA6wd17",
        "outputId": "6ada00d6-5807-44b1-8831-d73a31d3544b"
      },
      "execution_count": null,
      "outputs": [
        {
          "output_type": "stream",
          "name": "stdout",
          "text": [
            "          0       1       2       3       4       5       6       7       8   \\\n",
            "학번    201001  201002  201003  201004  201005  201006  201007  201008  201009   \n",
            "운영체제      64      98      82      69      78      58      95      71      81   \n",
            "논리회로      60      55      94      93      75      96      70      73      52   \n",
            "DB        84      79     100      52      85      60      80      51      62   \n",
            "\n",
            "          9       10      11      12      13      14      15      16      17  \\\n",
            "학번    201010  201011  201012  201013  201014  201015  201016  201017  201018   \n",
            "운영체제      51      89      69      98      62      53      81      53      56   \n",
            "논리회로      87      94      98      99      60      58      88      74      67   \n",
            "DB        80      56      51      77      54      62      87      98      68   \n",
            "\n",
            "          18      19  \n",
            "학번    201019  201020  \n",
            "운영체제      87      50  \n",
            "논리회로      65      54  \n",
            "DB        70      66  \n",
            "          0       1       2       3       4       5       6       7       8   \\\n",
            "학번    201001  201002  201003  201004  201005  201006  201007  201008  201009   \n",
            "운영체제      64      98      82      69      78      58      95      71      81   \n",
            "논리회로      60      55      94      93      75      96      70      73      52   \n",
            "DB        84      79     100      52      85      60      80      51      62   \n",
            "\n",
            "          9       10      11      12      13      14      15      16      17  \\\n",
            "학번    201010  201011  201012  201013  201014  201015  201016  201017  201018   \n",
            "운영체제      51      89      69      98      62      53      81      53      56   \n",
            "논리회로      87      94      98      99      60      58      88      74      67   \n",
            "DB        80      56      51      77      54      62      87      98      68   \n",
            "\n",
            "          18      19  \n",
            "학번    201019  201020  \n",
            "운영체제      87      50  \n",
            "논리회로      65      54  \n",
            "DB        70      66  \n"
          ]
        }
      ]
    },
    {
      "cell_type": "code",
      "source": [
        "# sort_index()로 정렬하기\n",
        "# axis = 0 : 행들이 정렬된다. ( default )\n",
        "# axis = 1 : 열들이 정렬된다.\n",
        "# ascending=False : 내림차순\n",
        "# ascending=True : 오름차순\n",
        "import pandas as pd\n",
        "\n",
        "data = pd.read_csv('/sample_data/sample.csv')\n",
        "\n",
        "sort_index1 = data.sort_index(axis=0, ascending=False)\n",
        "print(sort_index1)\n",
        "\n",
        "sort_index2 = data.sort_index(axis=1, ascending=True)\n",
        "print(sort_index2)"
      ],
      "metadata": {
        "colab": {
          "base_uri": "https://localhost:8080/"
        },
        "id": "Hpqvxqpjwdx-",
        "outputId": "8a2df669-f73b-44bb-9792-307154088650"
      },
      "execution_count": null,
      "outputs": [
        {
          "output_type": "stream",
          "name": "stdout",
          "text": [
            "        학번  운영체제  논리회로   DB\n",
            "19  201020    50    54   66\n",
            "18  201019    87    65   70\n",
            "17  201018    56    67   68\n",
            "16  201017    53    74   98\n",
            "15  201016    81    88   87\n",
            "14  201015    53    58   62\n",
            "13  201014    62    60   54\n",
            "12  201013    98    99   77\n",
            "11  201012    69    98   51\n",
            "10  201011    89    94   56\n",
            "9   201010    51    87   80\n",
            "8   201009    81    52   62\n",
            "7   201008    71    73   51\n",
            "6   201007    95    70   80\n",
            "5   201006    58    96   60\n",
            "4   201005    78    75   85\n",
            "3   201004    69    93   52\n",
            "2   201003    82    94  100\n",
            "1   201002    98    55   79\n",
            "0   201001    64    60   84\n",
            "     DB  논리회로  운영체제      학번\n",
            "0    84    60    64  201001\n",
            "1    79    55    98  201002\n",
            "2   100    94    82  201003\n",
            "3    52    93    69  201004\n",
            "4    85    75    78  201005\n",
            "5    60    96    58  201006\n",
            "6    80    70    95  201007\n",
            "7    51    73    71  201008\n",
            "8    62    52    81  201009\n",
            "9    80    87    51  201010\n",
            "10   56    94    89  201011\n",
            "11   51    98    69  201012\n",
            "12   77    99    98  201013\n",
            "13   54    60    62  201014\n",
            "14   62    58    53  201015\n",
            "15   87    88    81  201016\n",
            "16   98    74    53  201017\n",
            "17   68    67    56  201018\n",
            "18   70    65    87  201019\n",
            "19   66    54    50  201020\n"
          ]
        }
      ]
    },
    {
      "cell_type": "code",
      "source": [
        "# sort_value() : sort_value()의 axis인자가 0으로 설정될 때는 행들이 정렬된다. 따라서 정렬\n",
        "# 의 기준을 by에서 열 이름을 정해줘야 한다. 만약 axis가 1일 경우는 열들이\n",
        "# 정렬되므로 by의 값을 인덱스 중에 하나를 선택해야 한다.\n",
        "import pandas as pd\n",
        "\n",
        "data = pd.read_csv('/sample_data/sample.csv')\n",
        "\n",
        "data_sort = data.sort_values(axis=0, by='논리회로', ascending=True)\n",
        "print(data_sort)"
      ],
      "metadata": {
        "colab": {
          "base_uri": "https://localhost:8080/"
        },
        "id": "hTx-IwX9wdvs",
        "outputId": "70a1892a-9381-407a-99f2-57a683545562"
      },
      "execution_count": null,
      "outputs": [
        {
          "output_type": "stream",
          "name": "stdout",
          "text": [
            "        학번  운영체제  논리회로   DB\n",
            "8   201009    81    52   62\n",
            "19  201020    50    54   66\n",
            "1   201002    98    55   79\n",
            "14  201015    53    58   62\n",
            "13  201014    62    60   54\n",
            "0   201001    64    60   84\n",
            "18  201019    87    65   70\n",
            "17  201018    56    67   68\n",
            "6   201007    95    70   80\n",
            "7   201008    71    73   51\n",
            "16  201017    53    74   98\n",
            "4   201005    78    75   85\n",
            "9   201010    51    87   80\n",
            "15  201016    81    88   87\n",
            "3   201004    69    93   52\n",
            "10  201011    89    94   56\n",
            "2   201003    82    94  100\n",
            "5   201006    58    96   60\n",
            "11  201012    69    98   51\n",
            "12  201013    98    99   77\n"
          ]
        }
      ]
    },
    {
      "cell_type": "code",
      "source": [
        "# sort_value()\n",
        "# 인덱스 2를 기준으로 좌우로 열들을 정렬\n",
        "import pandas as pd\n",
        "\n",
        "data = pd.read_csv('/sample_data/sample.csv')\n",
        "\n",
        "data_sort1 = data.sort_values(axis=0, by='논리회로', ascending=True)\n",
        "print(data_sort1)\n",
        "\n",
        "data_sort2 = data.sort_values(axis=1, by=2, ascending=True)\n",
        "print(data_sort2)"
      ],
      "metadata": {
        "colab": {
          "base_uri": "https://localhost:8080/"
        },
        "id": "hGGoZP5hwdtw",
        "outputId": "c0c416da-e77d-4eed-ed0c-24cb9ac9ccb4"
      },
      "execution_count": null,
      "outputs": [
        {
          "output_type": "stream",
          "name": "stdout",
          "text": [
            "        학번  운영체제  논리회로   DB\n",
            "8   201009    81    52   62\n",
            "19  201020    50    54   66\n",
            "1   201002    98    55   79\n",
            "14  201015    53    58   62\n",
            "13  201014    62    60   54\n",
            "0   201001    64    60   84\n",
            "18  201019    87    65   70\n",
            "17  201018    56    67   68\n",
            "6   201007    95    70   80\n",
            "7   201008    71    73   51\n",
            "16  201017    53    74   98\n",
            "4   201005    78    75   85\n",
            "9   201010    51    87   80\n",
            "15  201016    81    88   87\n",
            "3   201004    69    93   52\n",
            "10  201011    89    94   56\n",
            "2   201003    82    94  100\n",
            "5   201006    58    96   60\n",
            "11  201012    69    98   51\n",
            "12  201013    98    99   77\n",
            "    운영체제  논리회로   DB      학번\n",
            "0     64    60   84  201001\n",
            "1     98    55   79  201002\n",
            "2     82    94  100  201003\n",
            "3     69    93   52  201004\n",
            "4     78    75   85  201005\n",
            "5     58    96   60  201006\n",
            "6     95    70   80  201007\n",
            "7     71    73   51  201008\n",
            "8     81    52   62  201009\n",
            "9     51    87   80  201010\n",
            "10    89    94   56  201011\n",
            "11    69    98   51  201012\n",
            "12    98    99   77  201013\n",
            "13    62    60   54  201014\n",
            "14    53    58   62  201015\n",
            "15    81    88   87  201016\n",
            "16    53    74   98  201017\n",
            "17    56    67   68  201018\n",
            "18    87    65   70  201019\n",
            "19    50    54   66  201020\n"
          ]
        }
      ]
    },
    {
      "cell_type": "code",
      "source": [
        "# DataFrame.max() : 최대값을 반환하는 메서드이다. \n",
        "# axis = 0을 설정할 경우 각 열의 Series중에서 가장 큰 행값을 찾는다 (default).\n",
        "# axis = 1을 설정하면 각 행 중에서 가장 큰 열 값을 찾는다.\n",
        "import pandas as pd\n",
        "\n",
        "data = pd.read_csv('/sample_data/sample.csv')\n",
        "\n",
        "print(data.max(axis = 0))\n",
        "print(data.max(axis = 1))\n"
      ],
      "metadata": {
        "colab": {
          "base_uri": "https://localhost:8080/"
        },
        "id": "0N5wvpFVwdrU",
        "outputId": "6db63de2-e2ca-41d6-d4fe-c77cb742b4e0"
      },
      "execution_count": null,
      "outputs": [
        {
          "output_type": "stream",
          "name": "stdout",
          "text": [
            "학번      201020\n",
            "운영체제        98\n",
            "논리회로        99\n",
            "DB         100\n",
            "dtype: int64\n",
            "0     201001\n",
            "1     201002\n",
            "2     201003\n",
            "3     201004\n",
            "4     201005\n",
            "5     201006\n",
            "6     201007\n",
            "7     201008\n",
            "8     201009\n",
            "9     201010\n",
            "10    201011\n",
            "11    201012\n",
            "12    201013\n",
            "13    201014\n",
            "14    201015\n",
            "15    201016\n",
            "16    201017\n",
            "17    201018\n",
            "18    201019\n",
            "19    201020\n",
            "dtype: int64\n"
          ]
        }
      ]
    },
    {
      "cell_type": "code",
      "source": [
        "# DataFrame.min() : 최소값을 반환하는 메서드이다\n",
        "# axis = 0을 설정할 경우 각 열의 Series중에서 가장 작은 행값을 찾는다(default).\n",
        "# axis = 1을 설정하면 각 행 중에서 가장 작은 열 값을 찾는다.\n",
        "import pandas as pd\n",
        "\n",
        "data = pd.read_csv('/sample_data/sample.csv')\n",
        "\n",
        "print(data.min(axis = 0))\n",
        "print(data.min(axis = 1))"
      ],
      "metadata": {
        "colab": {
          "base_uri": "https://localhost:8080/"
        },
        "id": "0vy1HhHEwdpY",
        "outputId": "258e7eb5-99bc-4274-a95e-6daf6074ac25"
      },
      "execution_count": null,
      "outputs": [
        {
          "output_type": "stream",
          "name": "stdout",
          "text": [
            "학번      201001\n",
            "운영체제        50\n",
            "논리회로        52\n",
            "DB          51\n",
            "dtype: int64\n",
            "0     60\n",
            "1     55\n",
            "2     82\n",
            "3     52\n",
            "4     75\n",
            "5     58\n",
            "6     70\n",
            "7     51\n",
            "8     52\n",
            "9     51\n",
            "10    56\n",
            "11    51\n",
            "12    77\n",
            "13    54\n",
            "14    53\n",
            "15    81\n",
            "16    53\n",
            "17    56\n",
            "18    65\n",
            "19    50\n",
            "dtype: int64\n"
          ]
        }
      ]
    },
    {
      "cell_type": "code",
      "source": [
        "# DataFrame.sum() : 합계값을 반환하는 메서드이다.\n",
        "# axis = 0을 설정할 경우 각 열 값들의 합을 반환한다(default).\n",
        "# axis = 1을 설정하면 각 행들의 합을 반환한다.\n",
        "import pandas as pd\n",
        "\n",
        "data = pd.read_csv('/sample_data/sample.csv')\n",
        "\n",
        "print(data.sum(axis = 0))\n",
        "print(data.sum(axis = 1))"
      ],
      "metadata": {
        "colab": {
          "base_uri": "https://localhost:8080/"
        },
        "id": "9TFyVhYQwdnR",
        "outputId": "bd95166d-d664-428e-8b32-96963a31938a"
      },
      "execution_count": null,
      "outputs": [
        {
          "output_type": "stream",
          "name": "stdout",
          "text": [
            "학번      4020210\n",
            "운영체제       1445\n",
            "논리회로       1512\n",
            "DB         1422\n",
            "dtype: int64\n",
            "0     201209\n",
            "1     201234\n",
            "2     201279\n",
            "3     201218\n",
            "4     201243\n",
            "5     201220\n",
            "6     201252\n",
            "7     201203\n",
            "8     201204\n",
            "9     201228\n",
            "10    201250\n",
            "11    201230\n",
            "12    201287\n",
            "13    201190\n",
            "14    201188\n",
            "15    201272\n",
            "16    201242\n",
            "17    201209\n",
            "18    201241\n",
            "19    201190\n",
            "dtype: int64\n"
          ]
        }
      ]
    },
    {
      "cell_type": "code",
      "source": [
        "# DataFrame.mean() : 평균값을 반환하는 메서드이다\n",
        "# axis = 0을 설정할 경우 각 열 값들의 평균값을 반환한다(default).\n",
        "# axis = 1을 설정하면 각 행들의 평균값을 반환한다\n",
        "import pandas as pd\n",
        "\n",
        "data = pd.read_csv('/sample_data/sample.csv')\n",
        "print(data.mean(axis = 0))\n",
        "print(data.mean(axis = 1))"
      ],
      "metadata": {
        "colab": {
          "base_uri": "https://localhost:8080/"
        },
        "id": "Zz12FOE7wdik",
        "outputId": "48f9c006-41bd-4610-af73-01f39c2da8ec"
      },
      "execution_count": null,
      "outputs": [
        {
          "output_type": "stream",
          "name": "stdout",
          "text": [
            "학번      201010.50\n",
            "운영체제        72.25\n",
            "논리회로        75.60\n",
            "DB          71.10\n",
            "dtype: float64\n",
            "0     50302.25\n",
            "1     50308.50\n",
            "2     50319.75\n",
            "3     50304.50\n",
            "4     50310.75\n",
            "5     50305.00\n",
            "6     50313.00\n",
            "7     50300.75\n",
            "8     50301.00\n",
            "9     50307.00\n",
            "10    50312.50\n",
            "11    50307.50\n",
            "12    50321.75\n",
            "13    50297.50\n",
            "14    50297.00\n",
            "15    50318.00\n",
            "16    50310.50\n",
            "17    50302.25\n",
            "18    50310.25\n",
            "19    50297.50\n",
            "dtype: float64\n"
          ]
        }
      ]
    },
    {
      "cell_type": "code",
      "source": [
        "# DataFrame.median() : 중앙값을 반환하는 메서드이다. \n",
        "# axis = 0을 설정할 경우 각 열 값들의 중앙값을 반환한다(default).\n",
        "# axis = 1을 설정하면 각 행들의 중앙값을 반환한다.\n",
        "import pandas as pd\n",
        "\n",
        "data = pd.read_csv('/sample_data/sample.csv')\n",
        "\n",
        "print(data.median(axis = 0))\n",
        "print(data.median(axis = 1))\n"
      ],
      "metadata": {
        "colab": {
          "base_uri": "https://localhost:8080/"
        },
        "id": "rxoMObrJwdes",
        "outputId": "34828506-e98e-4d71-ad95-2f736d364d26"
      },
      "execution_count": null,
      "outputs": [
        {
          "output_type": "stream",
          "name": "stdout",
          "text": [
            "학번      201010.5\n",
            "운영체제        70.0\n",
            "논리회로        73.5\n",
            "DB          69.0\n",
            "dtype: float64\n",
            "0     74.0\n",
            "1     88.5\n",
            "2     97.0\n",
            "3     81.0\n",
            "4     81.5\n",
            "5     78.0\n",
            "6     87.5\n",
            "7     72.0\n",
            "8     71.5\n",
            "9     83.5\n",
            "10    91.5\n",
            "11    83.5\n",
            "12    98.5\n",
            "13    61.0\n",
            "14    60.0\n",
            "15    87.5\n",
            "16    86.0\n",
            "17    67.5\n",
            "18    78.5\n",
            "19    60.0\n",
            "dtype: float64\n"
          ]
        }
      ]
    },
    {
      "cell_type": "code",
      "source": [
        "# DataFrame.rank() : 순위를 반환하는 메서드\n",
        "# numeric_only=True, numeric_only=False : 숫자만 순위 매김\n",
        "# na_option(keep, top, bottom) : NaN값 유지, 가장 작은 수, 가장 높은 수\n",
        "import pandas as pd\n",
        "\n",
        "data = pd.read_csv('/sample_data/sample.csv')\n",
        "data_rank = data.rank(axis = 0, method='min', ascending=False, numeric_only=True, na_option='top')\n",
        "print(data_rank)\n"
      ],
      "metadata": {
        "colab": {
          "base_uri": "https://localhost:8080/"
        },
        "id": "zHhZlYAuwdZb",
        "outputId": "0085f3fa-cbf0-4096-8da3-84222fdbbc04"
      },
      "execution_count": null,
      "outputs": [
        {
          "output_type": "stream",
          "name": "stdout",
          "text": [
            "      학번  운영체제  논리회로    DB\n",
            "0   20.0  13.0  15.0   5.0\n",
            "1   19.0   1.0  18.0   8.0\n",
            "2   18.0   6.0   4.0   1.0\n",
            "3   17.0  11.0   6.0  18.0\n",
            "4   16.0   9.0   9.0   4.0\n",
            "5   15.0  15.0   3.0  15.0\n",
            "6   14.0   3.0  12.0   6.0\n",
            "7   13.0  10.0  11.0  19.0\n",
            "8   12.0   7.0  20.0  13.0\n",
            "9   11.0  19.0   8.0   6.0\n",
            "10  10.0   4.0   4.0  16.0\n",
            "11   9.0  11.0   2.0  19.0\n",
            "12   8.0   1.0   1.0   9.0\n",
            "13   7.0  14.0  15.0  17.0\n",
            "14   6.0  17.0  17.0  13.0\n",
            "15   5.0   7.0   7.0   3.0\n",
            "16   4.0  17.0  10.0   2.0\n",
            "17   3.0  16.0  13.0  11.0\n",
            "18   2.0   5.0  14.0  10.0\n",
            "19   1.0  20.0  19.0  12.0\n"
          ]
        }
      ]
    }
  ]
}