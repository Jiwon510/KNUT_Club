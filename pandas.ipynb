{
  "nbformat": 4,
  "nbformat_minor": 0,
  "metadata": {
    "colab": {
      "name": "pandas.ipynb",
      "provenance": [],
      "collapsed_sections": [],
      "authorship_tag": "ABX9TyOAZXrm5SwBUd+2Hfvlg9Oh",
      "include_colab_link": true
    },
    "kernelspec": {
      "name": "python3",
      "display_name": "Python 3"
    },
    "language_info": {
      "name": "python"
    }
  },
  "cells": [
    {
      "cell_type": "markdown",
      "metadata": {
        "id": "view-in-github",
        "colab_type": "text"
      },
      "source": [
        "<a href=\"https://colab.research.google.com/github/Jiwon510/KNUT_Club/blob/master/pandas.ipynb\" target=\"_parent\"><img src=\"https://colab.research.google.com/assets/colab-badge.svg\" alt=\"Open In Colab\"/></a>"
      ]
    },
    {
      "cell_type": "code",
      "execution_count": 3,
      "metadata": {
        "colab": {
          "base_uri": "https://localhost:8080/"
        },
        "id": "_aXSQ3e5Jq8c",
        "outputId": "31a4bfa0-b8fd-4b02-df7e-2d0dfeaab7b1"
      },
      "outputs": [
        {
          "output_type": "stream",
          "name": "stdout",
          "text": [
            "1    1\n",
            "2    2\n",
            "3    3\n",
            "4    4\n",
            "5    5\n",
            "A    A\n",
            "F    B\n",
            "C    C\n",
            "dtype: object\n"
          ]
        }
      ],
      "source": [
        "import pandas as pd\n",
        "\n",
        "data_series = pd.Series([1,2,3,4,5,'A','B','C'], [1,2,3,4,5,'A','F','C'])\n",
        "print(data_series)"
      ]
    },
    {
      "cell_type": "code",
      "source": [
        "data = pd.read_csv('/sample_csv.csv')\n",
        "data_index = data.set_index('학번',drop=True)\n",
        "data_index2 = data_index.reset_index('학번',drop=False)\n",
        "print(data_index)\n",
        "print(\"\\n\")\n",
        "print(data_index2)"
      ],
      "metadata": {
        "colab": {
          "base_uri": "https://localhost:8080/"
        },
        "id": "aQE40rlvNFzS",
        "outputId": "f13955b8-1822-471e-e292-bc94afd093a3"
      },
      "execution_count": 39,
      "outputs": [
        {
          "output_type": "stream",
          "name": "stdout",
          "text": [
            "        운영체제  논리회로   DB\n",
            "학번                     \n",
            "201001    64    60   84\n",
            "201002    98    55   79\n",
            "201003    82    94  100\n",
            "201004    69    93   52\n",
            "201005    78    75   85\n",
            "201006    58    96   60\n",
            "201007    95    70   80\n",
            "201008    71    73   51\n",
            "201009    81    52   62\n",
            "201010    51    87   80\n",
            "201011    89    94   56\n",
            "201012    69    98   51\n",
            "201013    98    99   77\n",
            "201014    62    60   54\n",
            "201015    53    58   62\n",
            "201016    81    88   87\n",
            "201017    53    74   98\n",
            "201018    56    67   68\n",
            "201019    87    65   70\n",
            "201020    50    54   66\n",
            "\n",
            "\n",
            "        학번  운영체제  논리회로   DB\n",
            "0   201001    64    60   84\n",
            "1   201002    98    55   79\n",
            "2   201003    82    94  100\n",
            "3   201004    69    93   52\n",
            "4   201005    78    75   85\n",
            "5   201006    58    96   60\n",
            "6   201007    95    70   80\n",
            "7   201008    71    73   51\n",
            "8   201009    81    52   62\n",
            "9   201010    51    87   80\n",
            "10  201011    89    94   56\n",
            "11  201012    69    98   51\n",
            "12  201013    98    99   77\n",
            "13  201014    62    60   54\n",
            "14  201015    53    58   62\n",
            "15  201016    81    88   87\n",
            "16  201017    53    74   98\n",
            "17  201018    56    67   68\n",
            "18  201019    87    65   70\n",
            "19  201020    50    54   66\n"
          ]
        }
      ]
    },
    {
      "cell_type": "code",
      "source": [
        "data_columns = data.columns\n",
        "data_values = data.values\n",
        "print(data_columns)\n",
        "print(\"\\n\")\n",
        "print(data_values)\n",
        "print(\"\\n\")\n",
        "print(len(data_values))"
      ],
      "metadata": {
        "colab": {
          "base_uri": "https://localhost:8080/"
        },
        "id": "FBQ_ManTT4qA",
        "outputId": "5664e3c6-2089-4f68-eef5-14809767331f"
      },
      "execution_count": 45,
      "outputs": [
        {
          "output_type": "stream",
          "name": "stdout",
          "text": [
            "Index(['학번', '운영체제', '논리회로', 'DB'], dtype='object')\n",
            "\n",
            "\n",
            "[[201001     64     60     84]\n",
            " [201002     98     55     79]\n",
            " [201003     82     94    100]\n",
            " [201004     69     93     52]\n",
            " [201005     78     75     85]\n",
            " [201006     58     96     60]\n",
            " [201007     95     70     80]\n",
            " [201008     71     73     51]\n",
            " [201009     81     52     62]\n",
            " [201010     51     87     80]\n",
            " [201011     89     94     56]\n",
            " [201012     69     98     51]\n",
            " [201013     98     99     77]\n",
            " [201014     62     60     54]\n",
            " [201015     53     58     62]\n",
            " [201016     81     88     87]\n",
            " [201017     53     74     98]\n",
            " [201018     56     67     68]\n",
            " [201019     87     65     70]\n",
            " [201020     50     54     66]]\n",
            "\n",
            "\n",
            "20\n"
          ]
        }
      ]
    },
    {
      "cell_type": "code",
      "source": [
        "data_1 = data['운영체제']\n",
        "print(data_1)"
      ],
      "metadata": {
        "colab": {
          "base_uri": "https://localhost:8080/"
        },
        "id": "tcVOga-UXst3",
        "outputId": "dcf7538b-9535-4672-98dc-653047c2f700"
      },
      "execution_count": 46,
      "outputs": [
        {
          "output_type": "stream",
          "name": "stdout",
          "text": [
            "0     64\n",
            "1     98\n",
            "2     82\n",
            "3     69\n",
            "4     78\n",
            "5     58\n",
            "6     95\n",
            "7     71\n",
            "8     81\n",
            "9     51\n",
            "10    89\n",
            "11    69\n",
            "12    98\n",
            "13    62\n",
            "14    53\n",
            "15    81\n",
            "16    53\n",
            "17    56\n",
            "18    87\n",
            "19    50\n",
            "Name: 운영체제, dtype: int64\n"
          ]
        }
      ]
    },
    {
      "cell_type": "code",
      "source": [
        "data_2 = data.운영체제\n",
        "print(data_2)"
      ],
      "metadata": {
        "colab": {
          "base_uri": "https://localhost:8080/"
        },
        "id": "QFQu9jjfXs1R",
        "outputId": "21afc254-e8c2-44e6-f94d-ce4c24efb556"
      },
      "execution_count": 47,
      "outputs": [
        {
          "output_type": "stream",
          "name": "stdout",
          "text": [
            "0     64\n",
            "1     98\n",
            "2     82\n",
            "3     69\n",
            "4     78\n",
            "5     58\n",
            "6     95\n",
            "7     71\n",
            "8     81\n",
            "9     51\n",
            "10    89\n",
            "11    69\n",
            "12    98\n",
            "13    62\n",
            "14    53\n",
            "15    81\n",
            "16    53\n",
            "17    56\n",
            "18    87\n",
            "19    50\n",
            "Name: 운영체제, dtype: int64\n"
          ]
        }
      ]
    },
    {
      "cell_type": "code",
      "source": [
        "data_3 = data[['운영체제', '논리회로']]\n",
        "print(data_3)"
      ],
      "metadata": {
        "colab": {
          "base_uri": "https://localhost:8080/"
        },
        "id": "6HDONGl4XEcI",
        "outputId": "4892d083-be18-4141-f222-2977e5cc0397"
      },
      "execution_count": 48,
      "outputs": [
        {
          "output_type": "stream",
          "name": "stdout",
          "text": [
            "    운영체제  논리회로\n",
            "0     64    60\n",
            "1     98    55\n",
            "2     82    94\n",
            "3     69    93\n",
            "4     78    75\n",
            "5     58    96\n",
            "6     95    70\n",
            "7     71    73\n",
            "8     81    52\n",
            "9     51    87\n",
            "10    89    94\n",
            "11    69    98\n",
            "12    98    99\n",
            "13    62    60\n",
            "14    53    58\n",
            "15    81    88\n",
            "16    53    74\n",
            "17    56    67\n",
            "18    87    65\n",
            "19    50    54\n"
          ]
        }
      ]
    },
    {
      "cell_type": "code",
      "source": [
        "data_row = data[0:5]\n",
        "print(data_row)"
      ],
      "metadata": {
        "colab": {
          "base_uri": "https://localhost:8080/"
        },
        "id": "wOVXGNuTYiG9",
        "outputId": "1399adce-e516-4f2c-ce45-4e79896406f3"
      },
      "execution_count": 50,
      "outputs": [
        {
          "output_type": "stream",
          "name": "stdout",
          "text": [
            "       학번  운영체제  논리회로   DB\n",
            "0  201001    64    60   84\n",
            "1  201002    98    55   79\n",
            "2  201003    82    94  100\n",
            "3  201004    69    93   52\n",
            "4  201005    78    75   85\n"
          ]
        }
      ]
    },
    {
      "cell_type": "code",
      "source": [
        "data_1 = data.loc[0]\n",
        "data_2 = data.loc[0:3, ['논리회로', '운영체제']]\n",
        "print(data_1)\n",
        "print(data_2)"
      ],
      "metadata": {
        "colab": {
          "base_uri": "https://localhost:8080/"
        },
        "id": "ktsMClTuYm9u",
        "outputId": "eb668eab-677e-45f6-ea5a-39419f393833"
      },
      "execution_count": 54,
      "outputs": [
        {
          "output_type": "stream",
          "name": "stdout",
          "text": [
            "학번      201001\n",
            "운영체제        64\n",
            "논리회로        60\n",
            "DB          84\n",
            "Name: 0, dtype: int64\n",
            "   논리회로  운영체제\n",
            "0    60    64\n",
            "1    55    98\n",
            "2    94    82\n",
            "3    93    69\n"
          ]
        }
      ]
    }
  ]
}